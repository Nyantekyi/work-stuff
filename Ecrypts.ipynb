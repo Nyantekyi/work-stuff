{
 "cells": [
  {
   "cell_type": "code",
   "execution_count": 5,
   "id": "f64382a3",
   "metadata": {},
   "outputs": [],
   "source": [
    "from cryptography.fernet import Fernet\n",
    "import base64\n",
    "import os\n",
    "from cryptography.hazmat.primitives import hashes\n",
    "from cryptography.hazmat.primitives.kdf.pbkdf2 import PBKDF2HMAC\n",
    "import rsa\n",
    "import random\n",
    "\n",
    "\n",
    "    \n",
    "def byteconverter(txt):\n",
    "    try:\n",
    "        txt= txt.encode()\n",
    "        return txt\n",
    "    except:\n",
    "        return txt\n",
    "    \n",
    "    \n",
    "def txtconvert(txt):\n",
    "    try:\n",
    "        txt= txt.decode()\n",
    "        return txt\n",
    "    except:\n",
    "        return txt\n",
    "    \n",
    "\n",
    "# Symetric\n",
    "# this function returns the key\n",
    "def Fernet_getkey():\n",
    "    key = Fernet.generate_key()\n",
    "    return key\n",
    "\n",
    "# this function encrypts\n",
    "def Fernet_encrypt(txt,key):\n",
    "    f= Fernet(key)\n",
    "    enc=f.encrypt(byteconvert(txt))\n",
    "    return enc\n",
    "def Fernet_decrypt(key,enc):\n",
    "    try:\n",
    "        f= Fernet(key)# Fernet encryotion instance with the key\n",
    "        dec=f.decrypt(enc)# decrypting\n",
    "        return txtconvert(dec)# returning the string from byte value\n",
    "    except:\n",
    "        return print('An error occured, please check your secret key')"
   ]
  },
  {
   "cell_type": "code",
   "execution_count": 7,
   "id": "591c4b9e",
   "metadata": {},
   "outputs": [],
   "source": [
    "key=Fernet_getkey()"
   ]
  },
  {
   "cell_type": "code",
   "execution_count": 8,
   "id": "4cff9c25",
   "metadata": {},
   "outputs": [],
   "source": [
    "\n",
    "    \n",
    "def Fernet_password_getkey():\n",
    "    salt = os.urandom(16)# returns a string of random bytes for encryption \n",
    "    kdf = PBKDF2HMAC(\n",
    "         algorithm=hashes.SHA256(),# encryption algorithm (alternative=hashes.Whirlpool())\n",
    "         length=32,# \n",
    "         salt=salt,\n",
    "         iterations=480000,\n",
    "     )\n",
    "    key = base64.urlsafe_b64encode(kdf.derive(b\"password\")) #encryption key\n",
    "    return key\n",
    "\n",
    "def Fernet_password_encrypted(key,txt):\n",
    "    key = Fernet(key)\n",
    "    return key.encrypt(byteconvert(txt))\n",
    "\n",
    "def Fernet_password_decrypted(key,encypt):\n",
    "    key = Fernet(key)\n",
    "    return txtconvert(key.decrypt(encypt))\n"
   ]
  },
  {
   "cell_type": "code",
   "execution_count": 9,
   "id": "49b8e93f",
   "metadata": {},
   "outputs": [],
   "source": [
    "txt='asads Please send this to your team and I will just have them for the first day and the last week I had '\n"
   ]
  },
  {
   "cell_type": "code",
   "execution_count": 22,
   "id": "735cb7cc",
   "metadata": {},
   "outputs": [
    {
     "data": {
      "text/plain": [
       "PrivateKey(913346307017178060624638447676665604877281501642259247929724940438827155388536774804680439145202715802822416941509402163824485791909203375262795104773285437906853310555217926367548278940503113240385141738033325558769961388715762769679213023694927657, 65537, 277110303625884135029987806790100536908614452578767457860973964564835728790540690452969556921482686131854081487785112733894458791565019236063836896373800847920225384743792884073806641089500741353432565124046595432163239654326441509937953311188585073, 974866472020896565331142521796324957657225272783188815875932319173978979359547158535322114537928559896991959950145004135678053488551, 936893752355450992595223341618193834217668844751040332545173624834430770442941480658553773863436984119673696709317807)"
      ]
     },
     "execution_count": 22,
     "metadata": {},
     "output_type": "execute_result"
    }
   ],
   "source": [
    "privateKey"
   ]
  },
  {
   "cell_type": "code",
   "execution_count": 21,
   "id": "58d53a34",
   "metadata": {},
   "outputs": [
    {
     "ename": "OverflowError",
     "evalue": "104 bytes needed for message, but there is only space for 93",
     "output_type": "error",
     "traceback": [
      "\u001b[0;31m---------------------------------------------------------------------------\u001b[0m",
      "\u001b[0;31mOverflowError\u001b[0m                             Traceback (most recent call last)",
      "Cell \u001b[0;32mIn[21], line 15\u001b[0m\n\u001b[1;32m     13\u001b[0m     enc_data\u001b[38;5;241m=\u001b[39mrsa\u001b[38;5;241m.\u001b[39mencrypt(txt,pubkey)\n\u001b[1;32m     14\u001b[0m     \u001b[38;5;28;01mreturn\u001b[39;00m enc_data\n\u001b[0;32m---> 15\u001b[0m tst\u001b[38;5;241m=\u001b[39m\u001b[43mrsa_encryption\u001b[49m\u001b[43m(\u001b[49m\u001b[43mtxt\u001b[49m\u001b[43m,\u001b[49m\u001b[43mpublicKey\u001b[49m\u001b[43m)\u001b[49m\n\u001b[1;32m     17\u001b[0m \u001b[38;5;28;01mdef\u001b[39;00m \u001b[38;5;21mdecry_file\u001b[39m(txt,prikey):\n\u001b[1;32m     18\u001b[0m     dec_data\u001b[38;5;241m=\u001b[39mrsa\u001b[38;5;241m.\u001b[39mdecrypt(txt,prikey)\n",
      "Cell \u001b[0;32mIn[21], line 13\u001b[0m, in \u001b[0;36mrsa_encryption\u001b[0;34m(txt, pubkey)\u001b[0m\n\u001b[1;32m     11\u001b[0m \u001b[38;5;28;01mdef\u001b[39;00m \u001b[38;5;21mrsa_encryption\u001b[39m(txt,pubkey):\n\u001b[1;32m     12\u001b[0m     txt\u001b[38;5;241m=\u001b[39mbyteconverter(txt)\n\u001b[0;32m---> 13\u001b[0m     enc_data\u001b[38;5;241m=\u001b[39m\u001b[43mrsa\u001b[49m\u001b[38;5;241;43m.\u001b[39;49m\u001b[43mencrypt\u001b[49m\u001b[43m(\u001b[49m\u001b[43mtxt\u001b[49m\u001b[43m,\u001b[49m\u001b[43mpubkey\u001b[49m\u001b[43m)\u001b[49m\n\u001b[1;32m     14\u001b[0m     \u001b[38;5;28;01mreturn\u001b[39;00m enc_data\n",
      "File \u001b[0;32m~/anaconda3/lib/python3.10/site-packages/rsa/pkcs1.py:195\u001b[0m, in \u001b[0;36mencrypt\u001b[0;34m(message, pub_key)\u001b[0m\n\u001b[1;32m    173\u001b[0m \u001b[38;5;124;03m\"\"\"Encrypts the given message using PKCS#1 v1.5\u001b[39;00m\n\u001b[1;32m    174\u001b[0m \n\u001b[1;32m    175\u001b[0m \u001b[38;5;124;03m:param message: the message to encrypt. Must be a byte string no longer than\u001b[39;00m\n\u001b[0;32m   (...)\u001b[0m\n\u001b[1;32m    191\u001b[0m \n\u001b[1;32m    192\u001b[0m \u001b[38;5;124;03m\"\"\"\u001b[39;00m\n\u001b[1;32m    194\u001b[0m keylength \u001b[38;5;241m=\u001b[39m common\u001b[38;5;241m.\u001b[39mbyte_size(pub_key\u001b[38;5;241m.\u001b[39mn)\n\u001b[0;32m--> 195\u001b[0m padded \u001b[38;5;241m=\u001b[39m \u001b[43m_pad_for_encryption\u001b[49m\u001b[43m(\u001b[49m\u001b[43mmessage\u001b[49m\u001b[43m,\u001b[49m\u001b[43m \u001b[49m\u001b[43mkeylength\u001b[49m\u001b[43m)\u001b[49m\n\u001b[1;32m    197\u001b[0m payload \u001b[38;5;241m=\u001b[39m transform\u001b[38;5;241m.\u001b[39mbytes2int(padded)\n\u001b[1;32m    198\u001b[0m encrypted \u001b[38;5;241m=\u001b[39m core\u001b[38;5;241m.\u001b[39mencrypt_int(payload, pub_key\u001b[38;5;241m.\u001b[39me, pub_key\u001b[38;5;241m.\u001b[39mn)\n",
      "File \u001b[0;32m~/anaconda3/lib/python3.10/site-packages/rsa/pkcs1.py:113\u001b[0m, in \u001b[0;36m_pad_for_encryption\u001b[0;34m(message, target_length)\u001b[0m\n\u001b[1;32m    110\u001b[0m msglength \u001b[38;5;241m=\u001b[39m \u001b[38;5;28mlen\u001b[39m(message)\n\u001b[1;32m    112\u001b[0m \u001b[38;5;28;01mif\u001b[39;00m msglength \u001b[38;5;241m>\u001b[39m max_msglength:\n\u001b[0;32m--> 113\u001b[0m     \u001b[38;5;28;01mraise\u001b[39;00m \u001b[38;5;167;01mOverflowError\u001b[39;00m(\n\u001b[1;32m    114\u001b[0m         \u001b[38;5;124m\"\u001b[39m\u001b[38;5;132;01m%i\u001b[39;00m\u001b[38;5;124m bytes needed for message, but there is only\u001b[39m\u001b[38;5;124m\"\u001b[39m\n\u001b[1;32m    115\u001b[0m         \u001b[38;5;124m\"\u001b[39m\u001b[38;5;124m space for \u001b[39m\u001b[38;5;132;01m%i\u001b[39;00m\u001b[38;5;124m\"\u001b[39m \u001b[38;5;241m%\u001b[39m (msglength, max_msglength)\n\u001b[1;32m    116\u001b[0m     )\n\u001b[1;32m    118\u001b[0m \u001b[38;5;66;03m# Get random padding\u001b[39;00m\n\u001b[1;32m    119\u001b[0m padding \u001b[38;5;241m=\u001b[39m \u001b[38;5;124mb\u001b[39m\u001b[38;5;124m\"\u001b[39m\u001b[38;5;124m\"\u001b[39m\n",
      "\u001b[0;31mOverflowError\u001b[0m: 104 bytes needed for message, but there is only space for 93"
     ]
    }
   ],
   "source": [
    "import random\n",
    "\n",
    "\n",
    "def rsakey():\n",
    "    import rsa\n",
    "    c=random.randrange(512,1500)\n",
    "    return rsa.newkeys(c)\n",
    "\n",
    "publicKey, privateKey = rsakey()\n",
    "\n",
    "def rsa_encryption(txt,pubkey):\n",
    "    txt=byteconverter(txt)\n",
    "    enc_data=rsa.encrypt(txt,pubkey)\n",
    "    return enc_data\n",
    "tst=rsa_encryption(txt,publicKey)\n",
    "        \n",
    "def decry_file(txt,prikey):\n",
    "    dec_data=rsa.decrypt(txt,prikey)\n",
    "    return txtconvert(dec_data)\n",
    "tat=decry_file(tst,privateKey)\n",
    "print(tat)\n",
    "\n",
    "            \n"
   ]
  },
  {
   "cell_type": "code",
   "execution_count": 20,
   "id": "d252f474",
   "metadata": {},
   "outputs": [
    {
     "name": "stdout",
     "output_type": "stream",
     "text": [
      "private key PrivateKey(3724833321103929642592131846186021631496088094827263872037145459531491906925708221383099722523979729146746514186529708928627226867682245493138847425675438362144314440737299145215774850044728523576274216954198341349986477203899508622755185323553927099352633696409231240937404917169088173609725585836128274532540693089023671050643261724422428407545646235527687502667069008466582919586514486828111497528948381067, 65537, 1576448446335042746793078124077417062007827570475057113061237218838594855156604192082381509737211433958577720432607146139636135185145832785192978180965861022793183234550413756974685246741392417405074706926750799671193069204154282762779216569539008309932950962677494038089980277225083949506516800331089209870868341986536768358950362862088773431134084131624727965872115211110320449696314235075271877906980774649, 7173044557371025425820152876606898052742579309904998095609714916256552559327916898337701772705255031487917118595346779566335791736257592109761915390327484430841346779084214554066908760216066341960196555110101578921103, 519282055382785599622892403832801673056256563780584675586889937073308106340218865810214668794672963288531110586215924265269166471624892890581537414161313172017774661703837727634079232907224389)\n",
      "public key PublicKey(3724833321103929642592131846186021631496088094827263872037145459531491906925708221383099722523979729146746514186529708928627226867682245493138847425675438362144314440737299145215774850044728523576274216954198341349986477203899508622755185323553927099352633696409231240937404917169088173609725585836128274532540693089023671050643261724422428407545646235527687502667069008466582919586514486828111497528948381067, 65537)\n",
      "Encrypted\n",
      "b'\\x0c\\x03\\x8c\\xe7\\xb5x.\\xab\\xf0\\xba\\xf3\\x8c\\xd6\\x9ef\\xf1\\x02d5C\\xb3\\xa2\\xcb\\xbdqv\\x0b&\\xdd\\x19;\\xef\\x06\\x81\\x0c~\\x0c\\xc6\\xc0\\x17\\x0f\\xeb\\xef\\xde\\x1a\\x99\\xbby2\\xc6\\x01\\xe5\\xcb\\xc6\\xa7\\x04\\x0c\\x0c$\\x9b\\x96\\xc4C\\x80\\xe3\\xce\\xb6\\xfdxk+\\xc6\\xf2[m*\\xc2\\\\/\\xa1\\xa0\\x03\\xbaD\\x16Q\\xc2\\xd2\\xe9\\x14\\n\\xebv\\xfd\\xf68\\xe0\\xccu\\x96\\x0c\\xba\\xccS\\xf7\\xd97\\\\!\\x84\\r$-\\xe0X\\xaa\\xf6b\\xdfG\\xd0\\xc8\\xea\\xadp\\x1a\\xcdj\\\\\\x97?7G\\xf2B^\\xfe\\xab\\x93%M+\\xd8\\xea\\xc4\\x1f\\x90v S\\xccT\\x01\\xb0@\\xc3\\xf7c\\xbb\\xd5\\xcbw\\xce\\x16b\\xe9:\\xf1\\xb2\\xb5'\n",
      "Decrypted\n"
     ]
    },
    {
     "ename": "TypeError",
     "evalue": "cannot convert 'str' object to bytes",
     "output_type": "error",
     "traceback": [
      "\u001b[0;31m---------------------------------------------------------------------------\u001b[0m",
      "\u001b[0;31mTypeError\u001b[0m                                 Traceback (most recent call last)",
      "Cell \u001b[0;32mIn[20], line 9\u001b[0m\n\u001b[1;32m      6\u001b[0m \u001b[38;5;28mprint\u001b[39m(enc)\n\u001b[1;32m      7\u001b[0m \u001b[38;5;28mprint\u001b[39m(\u001b[38;5;124m'\u001b[39m\u001b[38;5;124mDecrypted\u001b[39m\u001b[38;5;124m'\u001b[39m)\n\u001b[0;32m----> 9\u001b[0m dec\u001b[38;5;241m=\u001b[39m\u001b[43mdecry_file\u001b[49m\u001b[43m(\u001b[49m\u001b[43mtxt\u001b[49m\u001b[43m,\u001b[49m\u001b[43mprikey\u001b[49m\u001b[43m)\u001b[49m\n\u001b[1;32m     10\u001b[0m \u001b[38;5;28mprint\u001b[39m(dec)\n",
      "Cell \u001b[0;32mIn[19], line 18\u001b[0m, in \u001b[0;36mdecry_file\u001b[0;34m(txt, prikey)\u001b[0m\n\u001b[1;32m     17\u001b[0m \u001b[38;5;28;01mdef\u001b[39;00m \u001b[38;5;21mdecry_file\u001b[39m(txt,prikey):\n\u001b[0;32m---> 18\u001b[0m     dec_data\u001b[38;5;241m=\u001b[39m\u001b[43mrsa\u001b[49m\u001b[38;5;241;43m.\u001b[39;49m\u001b[43mdecrypt\u001b[49m\u001b[43m(\u001b[49m\u001b[43mtxt\u001b[49m\u001b[43m,\u001b[49m\u001b[43mprikey\u001b[49m\u001b[43m)\u001b[49m\n\u001b[1;32m     19\u001b[0m     \u001b[38;5;28;01mreturn\u001b[39;00m txtconvert(dec_data)\n",
      "File \u001b[0;32m~/anaconda3/lib/python3.10/site-packages/rsa/pkcs1.py:256\u001b[0m, in \u001b[0;36mdecrypt\u001b[0;34m(crypto, priv_key)\u001b[0m\n\u001b[1;32m    205\u001b[0m \u001b[38;5;124mr\u001b[39m\u001b[38;5;124;03m\"\"\"Decrypts the given message using PKCS#1 v1.5\u001b[39;00m\n\u001b[1;32m    206\u001b[0m \n\u001b[1;32m    207\u001b[0m \u001b[38;5;124;03mThe decryption is considered 'failed' when the resulting cleartext doesn't\u001b[39;00m\n\u001b[0;32m   (...)\u001b[0m\n\u001b[1;32m    252\u001b[0m \n\u001b[1;32m    253\u001b[0m \u001b[38;5;124;03m\"\"\"\u001b[39;00m\n\u001b[1;32m    255\u001b[0m blocksize \u001b[38;5;241m=\u001b[39m common\u001b[38;5;241m.\u001b[39mbyte_size(priv_key\u001b[38;5;241m.\u001b[39mn)\n\u001b[0;32m--> 256\u001b[0m encrypted \u001b[38;5;241m=\u001b[39m \u001b[43mtransform\u001b[49m\u001b[38;5;241;43m.\u001b[39;49m\u001b[43mbytes2int\u001b[49m\u001b[43m(\u001b[49m\u001b[43mcrypto\u001b[49m\u001b[43m)\u001b[49m\n\u001b[1;32m    257\u001b[0m decrypted \u001b[38;5;241m=\u001b[39m priv_key\u001b[38;5;241m.\u001b[39mblinded_decrypt(encrypted)\n\u001b[1;32m    258\u001b[0m cleartext \u001b[38;5;241m=\u001b[39m transform\u001b[38;5;241m.\u001b[39mint2bytes(decrypted, blocksize)\n",
      "File \u001b[0;32m~/anaconda3/lib/python3.10/site-packages/rsa/transform.py:34\u001b[0m, in \u001b[0;36mbytes2int\u001b[0;34m(raw_bytes)\u001b[0m\n\u001b[1;32m     23\u001b[0m \u001b[38;5;28;01mdef\u001b[39;00m \u001b[38;5;21mbytes2int\u001b[39m(raw_bytes: \u001b[38;5;28mbytes\u001b[39m) \u001b[38;5;241m-\u001b[39m\u001b[38;5;241m>\u001b[39m \u001b[38;5;28mint\u001b[39m:\n\u001b[1;32m     24\u001b[0m     \u001b[38;5;124mr\u001b[39m\u001b[38;5;124;03m\"\"\"Converts a list of bytes or an 8-bit string to an integer.\u001b[39;00m\n\u001b[1;32m     25\u001b[0m \n\u001b[1;32m     26\u001b[0m \u001b[38;5;124;03m    When using unicode strings, encode it to some encoding like UTF8 first.\u001b[39;00m\n\u001b[0;32m   (...)\u001b[0m\n\u001b[1;32m     32\u001b[0m \n\u001b[1;32m     33\u001b[0m \u001b[38;5;124;03m    \"\"\"\u001b[39;00m\n\u001b[0;32m---> 34\u001b[0m     \u001b[38;5;28;01mreturn\u001b[39;00m \u001b[38;5;28;43mint\u001b[39;49m\u001b[38;5;241;43m.\u001b[39;49m\u001b[43mfrom_bytes\u001b[49m\u001b[43m(\u001b[49m\u001b[43mraw_bytes\u001b[49m\u001b[43m,\u001b[49m\u001b[43m \u001b[49m\u001b[38;5;124;43m\"\u001b[39;49m\u001b[38;5;124;43mbig\u001b[39;49m\u001b[38;5;124;43m\"\u001b[39;49m\u001b[43m,\u001b[49m\u001b[43m \u001b[49m\u001b[43msigned\u001b[49m\u001b[38;5;241;43m=\u001b[39;49m\u001b[38;5;28;43;01mFalse\u001b[39;49;00m\u001b[43m)\u001b[49m\n",
      "\u001b[0;31mTypeError\u001b[0m: cannot convert 'str' object to bytes"
     ]
    }
   ],
   "source": [
    "pubkey,prikey=rsakey()\n",
    "print('private key',prikey)\n",
    "print('public key',pubkey)\n",
    "enc=rsa_encryption(txt,pubkey)\n",
    "print('Encrypted')\n",
    "print(enc)\n",
    "print('Decrypted')\n",
    "\n",
    "dec=decry_file(txt,prikey)\n",
    "print(dec)"
   ]
  },
  {
   "cell_type": "code",
   "execution_count": 192,
   "id": "0ab285dd",
   "metadata": {
    "scrolled": true
   },
   "outputs": [
    {
     "name": "stdout",
     "output_type": "stream",
     "text": [
      "Original Text:\n",
      "'n Please send this to 8pm is not working today but I'm going back in a bit to make the right of it  your account code Please send this to your account code code is wrong for your code codePlease send this to your account code code is wrong for your code code for\n",
      "\n",
      "Segments (with space counts included):\n",
      "[\"'n Please send this to 8pm is not working today but I'm going back in a bit to make the right of it your account code Please send this to your account code code is wrong for your code codePlease send\", 'this to your account code code is wrong for your code code for']\n",
      "\n",
      "Reconstructed Text:\n",
      "'n Please send this to 8pm is not working today but I'm going back in a bit to make the right of it your account code Please send this to your account code code is wrong for your code codePlease send this to your account code code is wrong for your code code for\n"
     ]
    }
   ],
   "source": [
    "def split_text_into_segments(text):\n",
    "    segmented_text = []\n",
    "    current_segment = \"\"\n",
    "    segment_length = 0\n",
    "\n",
    "    words = text.split()  # Split text into words\n",
    "\n",
    "    for word in words:\n",
    "        word_length = len(word) + 1  # Account for the space after the word\n",
    "        if segment_length + word_length <= 200:\n",
    "            current_segment += word + \" \"\n",
    "            segment_length += word_length\n",
    "        else:\n",
    "            segmented_text.append(current_segment[:-1])  # Remove the extra space at the end\n",
    "            current_segment = word + \" \"\n",
    "            segment_length = word_length\n",
    "\n",
    "    if current_segment:\n",
    "        segmented_text.append(current_segment[:-1])  # Append the remaining segment\n",
    "\n",
    "    return segmented_text\n",
    "\n",
    "\n",
    "def join_segments_into_text(segments):\n",
    "    return \" \".join(segments)\n",
    "text = \"'n Please send this to 8pm is not working today but I'm going back in a bit to make the right of it  your account code Please send this to your account code code is wrong for your code codePlease send this to your account code code is wrong for your code code for\"\n",
    "\n",
    "# Split the text into segments of 200 characters\n",
    "segments = split_text_into_segments(text)\n",
    "\n",
    "# Join the segments back into a single text\n",
    "reconstructed_text = join_segments_into_text(segments)\n",
    "\n",
    "# Check the result\n",
    "print(\"Original Text:\")\n",
    "print(text)\n",
    "print(\"\\nSegments (with space counts included):\")\n",
    "print(segments)\n",
    "print(\"\\nReconstructed Text:\")\n",
    "print(reconstructed_text)\n",
    "if reconstructed_text==text:\n",
    "    print('true')"
   ]
  },
  {
   "cell_type": "code",
   "execution_count": 213,
   "id": "509bb7e8",
   "metadata": {},
   "outputs": [
    {
     "name": "stdout",
     "output_type": "stream",
     "text": [
      "\n",
      "    Splits the text into a list of substrings with a maximum of 200 characters per substring.\n",
      "    Preserves all special characters.\n",
      "\n",
      "    Args:\n",
      "    text: The input text to be split.\n",
      "\n",
      "    Returns:\n",
      "    Please send this to your account code code is wrong for your code code \n",
      "    A list containing substrings of the original text with a maximum of 200 characters per substring.\n",
      "    \n"
     ]
    }
   ],
   "source": [
    "def split_text_into_chunks(text):\n",
    "#     this function splits the text file into chunks of 200 characters and stores it as a list\n",
    "#     this also preserves all special characters\n",
    "    chunks = []\n",
    "    current_chunk = ''\n",
    "    current_length = 0\n",
    "\n",
    "    for char in text:\n",
    "        if current_length + 1 <= 200:\n",
    "            current_chunk += char\n",
    "            current_length += 1\n",
    "        else:\n",
    "            chunks.append(current_chunk)\n",
    "            current_chunk = char\n",
    "            current_length = 1\n",
    "\n",
    "    if current_chunk:\n",
    "        chunks.append(current_chunk)\n",
    "    return chunks\n",
    "\n",
    "\n",
    "def join_chunks_into_text(chunks):\n",
    "    return ''.join(chunks)\n",
    "\n",
    "\n",
    "# Example usage:\n",
    "\n",
    "split_chunks = split_text_into_chunks(text)\n",
    "joined_text = join_chunks_into_text(split_chunks)\n",
    "\n",
    "# for chunk in split_chunks:\n",
    "#     print(f\"Chunk: '{chunk}' (Length: {len(chunk)})\")\n",
    "\n",
    "print(joined_text)\n"
   ]
  },
  {
   "cell_type": "code",
   "execution_count": 214,
   "id": "1162388e",
   "metadata": {},
   "outputs": [
    {
     "name": "stdout",
     "output_type": "stream",
     "text": [
      "true\n"
     ]
    }
   ],
   "source": [
    "if joined_text==text:\n",
    "    print('true')\n",
    "\n"
   ]
  },
  {
   "cell_type": "code",
   "execution_count": 180,
   "id": "371e1f01",
   "metadata": {},
   "outputs": [],
   "source": [
    "from cryptography.hazmat.primitives import hashes\n",
    "from cryptography.hazmat.primitives.asymmetric import rsa, padding\n",
    "from cryptography.exceptions import InvalidSignature\n",
    "def byteconverter(txt):\n",
    "    '''\n",
    "    This function simply encodes raw text to byte, \n",
    "    however if the text is already a byte it simply returns it\n",
    "    it has only one argument which is the text we want to encode or convert to byte\n",
    "    '''\n",
    "    try:\n",
    "        txt= txt.encode()# the str.encode() returns the byte string of the txt\n",
    "        return txt\n",
    "    except:\n",
    "        return txt\n",
    "\n",
    "def generate_key_pair():\n",
    "    '''\n",
    "    This is based on the Rivest Shamir Adleman (RSA) encryption algo and\n",
    "    returns an instance of the public and private key.\n",
    "    The key size must be atleast 2048 as this is currently industry\n",
    "    best practice \n",
    "    '''\n",
    "    key_size = 2048  # Should be at least 2048\n",
    "    private_key = rsa.generate_private_key(\n",
    "        public_exponent=65537,  # Do not change\n",
    "        key_size=key_size,\n",
    "    )\n",
    "    public_key = private_key.public_key() # public key is generated from the private key\n",
    "    return private_key, public_key\n",
    "\n",
    "\n",
    "def encrypt(message, public_key):\n",
    "    '''\n",
    "    This is the encryption function. It takes two arguments\n",
    "    1. message \n",
    "    2. public_key\n",
    "    \n",
    "    It returns an encrypted version of the message(which is a byte txt)\n",
    "    \n",
    "    MGF=Mask Generation Function.\n",
    "    OAEP=Optimal Asymmetric Encryption Padding\n",
    "    \n",
    "    \n",
    "    \n",
    "    For example an alternative return function can look like this with SHA-512 as the hash function\n",
    "        return public_key.encrypt(\n",
    "        message,\n",
    "        padding.OAEP(\n",
    "            mgf=padding.MGF1(algorithm=hashes.SHA512()),  # Change this line\n",
    "            algorithm=hashes.SHA512(),  # Change this line\n",
    "            label=None\n",
    "        )\n",
    "    )\n",
    "\n",
    "    \n",
    "    '''\n",
    "    \n",
    "    return public_key.encrypt(\n",
    "        byteconverter(message),# this convertes the message the byte text where necessary. \n",
    "                                # The encrypt function only takes byte text\n",
    "        padding.OAEP(#OEAP stands for Optimal Asymmetric Encryption Padding. \n",
    "                    #This padding scheme is commonly used with RSA encryption. \n",
    "            mgf=padding.MGF1(algorithm=hashes.SHA256()),# this creates random masks that alters plain txt before encryption\n",
    "                                                        #mainly for maximum security\n",
    "            # alternatively SHA-256, SHA-384, SHA-512, SHA1(older hash function with security issues)\n",
    "            # if line 16 is changed please change line 19 as well\n",
    "            algorithm=hashes.SHA256(),\n",
    "            label=None #not needed\n",
    "        )\n",
    "    )\n",
    "\n",
    "def decrypt(message_encrypted, private_key):\n",
    "    try:\n",
    "        message_decrypted = private_key.decrypt(\n",
    "            message_encrypted, # this must be the byte formate of the the encrypted txt\n",
    "            #please note that all the padding.OAEP parameters must be the same as that of the Encryption \n",
    "            padding.OAEP(\n",
    "                mgf=padding.MGF1(algorithm=hashes.SHA256()),\n",
    "                algorithm=hashes.SHA256(),\n",
    "                label=None\n",
    "            )\n",
    "        )\n",
    "        return f\"{message_decrypted.decode()}\" #returns the decrypted message\n",
    "    except ValueError:\n",
    "        return \"Failed to Decrypt\" # returned in a case of an error\n",
    "    \n",
    "    "
   ]
  },
  {
   "cell_type": "code",
   "execution_count": 185,
   "id": "d709e5e9",
   "metadata": {},
   "outputs": [],
   "source": [
    "\n",
    "# This function reads a txt file and provided the public key encrypts its contents accordingly\n",
    "def enc_file(filename,pubkey):\n",
    "    with open(filename,'rb') as file: #opens file \n",
    "        txt=file.read() # reads file\n",
    "    enc_data = encrypt(message, pubkey)# encrypts data\n",
    "    print(enc_data)\n",
    "    with open(filename+'.encrypted','wb') as enc_file: # creates a new file with the same filename but with .encryption attached \n",
    "        enc_file.write(enc_data) # writes the encrypted data into the new file created.\n",
    "        \n",
    "def decry_file(encfilename,prikey):\n",
    "    with open(encfilename, 'rb') as encfile: #opens encrypted file\n",
    "        encrypted=encfile.read() # reads the encrypted file contents\n",
    "    dec_data=decrypt(message_encrypted, private_key) # decryptes file contents\n",
    "    print(dec_data)\n",
    "    \n",
    "    decry_filename = encfilename.replace('.encrypted', '.decrypted') \n",
    "    with open(decry_filename, 'wb') as decry_file: # creates a new file with decrypted as name\n",
    "        decry_file.write(dec_data.encode()) # writes encrypted contents\n",
    "    \n",
    "        "
   ]
  },
  {
   "cell_type": "markdown",
   "id": "77b80656",
   "metadata": {},
   "source": [
    "# Testing"
   ]
  },
  {
   "cell_type": "code",
   "execution_count": 184,
   "id": "e296e52f",
   "metadata": {},
   "outputs": [
    {
     "name": "stdout",
     "output_type": "stream",
     "text": [
      "\n",
      "\n",
      "\n",
      "Encrypted Text: 869aeb781892388800274ac8c7152843bdf00f06cf76e81ae67598e88f5561d3b0ef33bb24860c45bbfb5be6f034df020832bd4795e1fe56520a4cb728d976f089e2810482342a18c7c51761f705266da4efb4a8448f0d9682cec8be00ed9571d679bc982a6f3606ee058b3a592e44d643c1a433e1e6ccd314aeeb73592f388a0b1fa3ae9136f90d200a0c932ca633251eb30c82a000f6e2993630e4f360f88c3633d8ab21a57a5faf0e6b021ad25bc673f3e92ddcc2b27df3db05c455db9cfc6961c6f5c883665612d92233d8d263388d9d14f39d9074e7cbc1752ff4e990bd2c68c0c56daacd335c5aa55938f27a73be653b03c16732ee93395a61d6a2f2be\n",
      "\n",
      "\n",
      "\n",
      "b'\\x86\\x9a\\xebx\\x18\\x928\\x88\\x00\\'J\\xc8\\xc7\\x15(C\\xbd\\xf0\\x0f\\x06\\xcfv\\xe8\\x1a\\xe6u\\x98\\xe8\\x8fUa\\xd3\\xb0\\xef3\\xbb$\\x86\\x0cE\\xbb\\xfb[\\xe6\\xf04\\xdf\\x02\\x082\\xbdG\\x95\\xe1\\xfeVR\\nL\\xb7(\\xd9v\\xf0\\x89\\xe2\\x81\\x04\\x824*\\x18\\xc7\\xc5\\x17a\\xf7\\x05&m\\xa4\\xef\\xb4\\xa8D\\x8f\\r\\x96\\x82\\xce\\xc8\\xbe\\x00\\xed\\x95q\\xd6y\\xbc\\x98*o6\\x06\\xee\\x05\\x8b:Y.D\\xd6C\\xc1\\xa43\\xe1\\xe6\\xcc\\xd3\\x14\\xae\\xebsY/8\\x8a\\x0b\\x1f\\xa3\\xae\\x916\\xf9\\r \\n\\x0c\\x93,\\xa63%\\x1e\\xb3\\x0c\\x82\\xa0\\x00\\xf6\\xe2\\x9960\\xe4\\xf3`\\xf8\\x8c63\\xd8\\xab!\\xa5z_\\xaf\\x0ek\\x02\\x1a\\xd2[\\xc6s\\xf3\\xe9-\\xdc\\xc2\\xb2}\\xf3\\xdb\\x05\\xc4U\\xdb\\x9c\\xfcia\\xc6\\xf5\\xc8\\x83fV\\x12\\xd9\"3\\xd8\\xd2c8\\x8d\\x9d\\x14\\xf3\\x9d\\x90t\\xe7\\xcb\\xc1u/\\xf4\\xe9\\x90\\xbd,h\\xc0\\xc5m\\xaa\\xcd3\\\\Z\\xa5Y8\\xf2zs\\xbee;\\x03\\xc1g2\\xee\\x939Za\\xd6\\xa2\\xf2\\xbe'\n",
      "\n",
      "\n",
      "\n",
      "n Please send this to your account\n"
     ]
    }
   ],
   "source": []
  },
  {
   "cell_type": "code",
   "execution_count": 187,
   "id": "5eb64498",
   "metadata": {},
   "outputs": [
    {
     "name": "stdout",
     "output_type": "stream",
     "text": [
      "b'c\\x90\\x19\\x89\\x05g^\\xc75g2\\x18\\xa4\\x8ck\\xf9\\x8e\\xaf\\x9bO\\x08\\x1d\\x9a\\xda\\x81\\x8e\\x19bE\\xe6\\x99\\xc2\\x17\\x96[\\xbe\\x7f\\xabl#\\xab\\xf0\\xbe?\\x91G\\xfb\\xcd\\x02\\xc2sBP}3\\x1b\\x89/\\x14\\xc7\\x12%\\xe6\\xfd]\\xa0%\\xc0P=\\t\\x8d\\x82\\xc1\\xb8IwG\\x96\\xc4\\xf1N!\\x89\\xca\\xd0=Y\\xb2Mlk\\xb8K\\x13\\x08#]z\\xf0\\xec\\x10\\xb4\\x12\\x16)\\x05\\xe5\\x89\\xd8\\x89\\xa6@\\x99A\\xa8\\xf4\\xd2k\\xf9\\x88\\xb1\\xcb\\xa9\\xae\\x92\\x03\\xb7\\x0f\\xcdl\\xe7\\x04!\\xf5\\n\\xb5RI?Vu\\x85<I]\\xcf\\x0f;F\\x0f\\xcc\\ty\\xf0\\xc2\\xfc:\\xee\\x969\\x01B\\x14\\x18\\xbe,\\x1fz7\\xff\\x870\\x06\\x1b\\xc0l\\x0ei\\xc9Q\\xb4\\xd3\\xed\\xd2\\xf2\\xb9\\xe3\\xe7\\x86\\xcd\\xdc\\xbcn\\xdc\\xf2^9\\xc4.\\x7fR\\xe2\\x08)`*^\\x87\\xe5D\\xa5\\x84\\x1d&\\x8cIpc\\xd3jO\\xe7\\xa5\\xf5\\xbcf`!\\x88\\xdc\\xb0%\\xf5\\x8b\\xd6V\\xeb\\x8cL1\"\\xc2u\\x19\\xb7\\xd8k\\xc5_\\xdfys\\x85\\xd0&'\n"
     ]
    }
   ],
   "source": [
    "enc_file('Enc.txt',pubkey=public_key)"
   ]
  },
  {
   "cell_type": "code",
   "execution_count": 188,
   "id": "de71917d",
   "metadata": {},
   "outputs": [
    {
     "name": "stdout",
     "output_type": "stream",
     "text": [
      "n Please send this to your account\n"
     ]
    }
   ],
   "source": [
    "decry_file('Enc.txt.encrypted',prikey=private_key)\n",
    "    "
   ]
  },
  {
   "cell_type": "code",
   "execution_count": null,
   "id": "12a0f39b",
   "metadata": {},
   "outputs": [],
   "source": []
  }
 ],
 "metadata": {
  "kernelspec": {
   "display_name": "Python 3 (ipykernel)",
   "language": "python",
   "name": "python3"
  },
  "language_info": {
   "codemirror_mode": {
    "name": "ipython",
    "version": 3
   },
   "file_extension": ".py",
   "mimetype": "text/x-python",
   "name": "python",
   "nbconvert_exporter": "python",
   "pygments_lexer": "ipython3",
   "version": "3.10.9"
  }
 },
 "nbformat": 4,
 "nbformat_minor": 5
}
